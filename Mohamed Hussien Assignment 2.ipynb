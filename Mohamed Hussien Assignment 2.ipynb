{
 "cells": [
  {
   "cell_type": "markdown",
   "metadata": {},
   "source": [
    "# Assignment 2\n",
    "Let's test your knowledge!"
   ]
  },
  {
   "cell_type": "markdown",
   "metadata": {},
   "source": [
    "_____\n",
    "**Use <code>for</code>, .split(), and <code>if</code> to create a Statement that will print out words that start with 's':**"
   ]
  },
  {
   "cell_type": "code",
   "execution_count": 1,
   "metadata": {},
   "outputs": [],
   "source": [
    "st = 'Print only the words that start with s in this sentence'"
   ]
  },
  {
   "cell_type": "code",
   "execution_count": 3,
   "metadata": {},
   "outputs": [
    {
     "name": "stdout",
     "output_type": "stream",
     "text": [
      "start\n",
      "s\n",
      "sentence\n"
     ]
    }
   ],
   "source": [
    "#Code here\n",
    "split = st.split(' ')\n",
    "for word in split:\n",
    "    if word[0] == 's':\n",
    "        print(word)"
   ]
  },
  {
   "cell_type": "markdown",
   "metadata": {},
   "source": [
    "___\n",
    "**Use a List Comprehension to create a list of all numbers between 1 and 50 that are divisible by 3.**"
   ]
  },
  {
   "cell_type": "code",
   "execution_count": 4,
   "metadata": {},
   "outputs": [
    {
     "name": "stdout",
     "output_type": "stream",
     "text": [
      "[3, 6, 9, 12, 15, 18, 21, 24, 27, 30, 33, 36, 39, 42, 45, 48]\n"
     ]
    }
   ],
   "source": [
    "#Code Here\n",
    "mylist = [number for number in range(1, 51) if number % 3 == 0]\n",
    "print(mylist)"
   ]
  },
  {
   "cell_type": "markdown",
   "metadata": {},
   "source": [
    "_____\n",
    "**Go through the string below and if the length of a word is even print \"even!\"**"
   ]
  },
  {
   "cell_type": "code",
   "execution_count": 5,
   "metadata": {},
   "outputs": [],
   "source": [
    "st = 'Print every word in this sentence that has an even number of letters'"
   ]
  },
  {
   "cell_type": "code",
   "execution_count": 8,
   "metadata": {},
   "outputs": [
    {
     "name": "stdout",
     "output_type": "stream",
     "text": [
      "Print : Not even\n",
      "every : Not even\n",
      "word : even!\n",
      "in : even!\n",
      "this : even!\n",
      "sentence : even!\n",
      "that : even!\n",
      "has : Not even\n",
      "an : even!\n",
      "even : even!\n",
      "number : even!\n",
      "of : even!\n",
      "letters : Not even\n"
     ]
    }
   ],
   "source": [
    "#Code in this cell\n",
    "mylist = st.split(' ')\n",
    "for word in mylist:\n",
    "    if len(word) % 2 == 0:\n",
    "        print(word,': even!')\n",
    "    else:\n",
    "        print(word,': Not even')"
   ]
  },
  {
   "cell_type": "markdown",
   "metadata": {},
   "source": [
    "____\n",
    "**Write a program that prints the integers from 1 to 100. But for multiples of three print \"Fizz\" instead of the number, and for the multiples of five print \"Buzz\". For numbers which are multiples of both three and five print \"FizzBuzz\".**"
   ]
  },
  {
   "cell_type": "code",
   "execution_count": 14,
   "metadata": {},
   "outputs": [
    {
     "name": "stdout",
     "output_type": "stream",
     "text": [
      "3 : Fizz\n",
      "5 : Buzz\n",
      "6 : Fizz\n",
      "9 : Fizz\n",
      "10 : Buzz\n",
      "12 : Fizz\n",
      "15 : FizzBuzz\n",
      "18 : Fizz\n",
      "20 : Buzz\n",
      "21 : Fizz\n",
      "24 : Fizz\n",
      "25 : Buzz\n",
      "27 : Fizz\n",
      "30 : FizzBuzz\n",
      "33 : Fizz\n",
      "35 : Buzz\n",
      "36 : Fizz\n",
      "39 : Fizz\n",
      "40 : Buzz\n",
      "42 : Fizz\n",
      "45 : FizzBuzz\n",
      "48 : Fizz\n",
      "50 : Buzz\n",
      "51 : Fizz\n",
      "54 : Fizz\n",
      "55 : Buzz\n",
      "57 : Fizz\n",
      "60 : FizzBuzz\n",
      "63 : Fizz\n",
      "65 : Buzz\n",
      "66 : Fizz\n",
      "69 : Fizz\n",
      "70 : Buzz\n",
      "72 : Fizz\n",
      "75 : FizzBuzz\n",
      "78 : Fizz\n",
      "80 : Buzz\n",
      "81 : Fizz\n",
      "84 : Fizz\n",
      "85 : Buzz\n",
      "87 : Fizz\n",
      "90 : FizzBuzz\n",
      "93 : Fizz\n",
      "95 : Buzz\n",
      "96 : Fizz\n",
      "99 : Fizz\n",
      "100 : Buzz\n"
     ]
    }
   ],
   "source": [
    "#Code in this cell\n",
    "for number in range(1,101):\n",
    "    if (number % 3 == 0 and number % 5 == 0):\n",
    "        print(number,': FizzBuzz')\n",
    "    elif number % 3 == 0:\n",
    "        print(number,': Fizz')\n",
    "    elif number % 5 == 0:\n",
    "        print(number,': Buzz')\n",
    "    "
   ]
  },
  {
   "cell_type": "markdown",
   "metadata": {},
   "source": [
    "____\n",
    "**Use List Comprehension to create a list of the first letters of every word in the string below:**"
   ]
  },
  {
   "cell_type": "code",
   "execution_count": 18,
   "metadata": {},
   "outputs": [],
   "source": [
    "st = 'Create a list of the first letters of every word in this string'"
   ]
  },
  {
   "cell_type": "code",
   "execution_count": 19,
   "metadata": {},
   "outputs": [
    {
     "data": {
      "text/plain": [
       "['C', 'l', 'o', 't', 'f', 'l', 'o', 'e', 'w', 'i', 't', 's']"
      ]
     },
     "execution_count": 19,
     "metadata": {},
     "output_type": "execute_result"
    }
   ],
   "source": [
    "#Code in this cell\n",
    "mylistfirstnumber = []\n",
    "mylist = st.split()\n",
    "for word in mylist:\n",
    "    if len(word) == 1:\n",
    "        pass\n",
    "    else:\n",
    "        mylistfirstnumber.append(word[0])\n",
    "mylistfirstnumber"
   ]
  },
  {
   "cell_type": "markdown",
   "metadata": {},
   "source": [
    "### Great Job!"
   ]
  }
 ],
 "metadata": {
  "kernelspec": {
   "display_name": "Python 3 (ipykernel)",
   "language": "python",
   "name": "python3"
  },
  "language_info": {
   "codemirror_mode": {
    "name": "ipython",
    "version": 3
   },
   "file_extension": ".py",
   "mimetype": "text/x-python",
   "name": "python",
   "nbconvert_exporter": "python",
   "pygments_lexer": "ipython3",
   "version": "3.9.7"
  }
 },
 "nbformat": 4,
 "nbformat_minor": 4
}
